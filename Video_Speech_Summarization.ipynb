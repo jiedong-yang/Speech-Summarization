{
 "cells": [
  {
   "cell_type": "markdown",
   "metadata": {},
   "source": [
    "# Building Speech Summarization Web App with Hugging Face Transformers and Gradio"
   ]
  },
  {
   "cell_type": "markdown",
   "metadata": {
    "colab": {
     "base_uri": "https://localhost:8080/"
    },
    "id": "Ky5pi0q8_wDP",
    "outputId": "0e5add76-9c03-4a4b-d674-52ccf0a1da19"
   },
   "source": [
    "## 1. Define extract audio, speech recognize and summary functions"
   ]
  },
  {
   "cell_type": "code",
   "execution_count": 1,
   "metadata": {
    "id": "gHUh8UMdADy5",
    "pycharm": {
     "is_executing": true
    }
   },
   "outputs": [],
   "source": [
    "import os\n",
    "import pafy\n",
    "import time\n",
    "import whisper\n",
    "import validators\n",
    "import gradio as gr\n",
    "\n",
    "from gradio.mix import Series\n",
    "from transformers import pipeline\n",
    "from wordcloud import WordCloud, STOPWORDS"
   ]
  },
  {
   "cell_type": "code",
   "execution_count": 2,
   "metadata": {
    "pycharm": {
     "is_executing": true
    }
   },
   "outputs": [
    {
     "name": "stdout",
     "output_type": "stream",
     "text": [
      "Fetching model from: https://huggingface.co/facebook/bart-large-cnn\n"
     ]
    }
   ],
   "source": [
    "# load whisper model for ASR\n",
    "asr_model = whisper.load_model('base.en')\n",
    "summarizer = gr.Interface.load(\"facebook/bart-large-cnn\", src='huggingface')"
   ]
  },
  {
   "cell_type": "markdown",
   "metadata": {},
   "source": [
    "### 1.1 Preprocessing data"
   ]
  },
  {
   "cell_type": "code",
   "execution_count": 3,
   "metadata": {
    "id": "5sy6Cx8ICCWJ"
   },
   "outputs": [],
   "source": [
    "def audio_from_url(url, dst_dir='data', name=None, format='wav'):\n",
    "    \"\"\" Download video from url and save the audio from video\n",
    "\n",
    "    :param url: str, the video url\n",
    "    :param dst_dir: destination directory for save audio\n",
    "    :param name: audio file's name, if none, assign the name as the video's title\n",
    "    :param format: format type for audio file, such as 'wav', 'mp3'. WAV is preferred.\n",
    "    :return: path of audio\n",
    "    \"\"\"\n",
    "    \n",
    "    if not validators.url(url):\n",
    "        return None\n",
    "\n",
    "    os.makedirs(dst_dir, exist_ok=True)\n",
    "    \n",
    "    # download audio\n",
    "    video = pafy.new(url)\n",
    "    path = os.path.join(dst_dir, f\"audio.{format}\")\n",
    "    os.system(f\"yt-dlp -f 'ba' -x --audio-format {format} {url}  -o {path} --quiet\")\n",
    "    \n",
    "    return path"
   ]
  },
  {
   "cell_type": "markdown",
   "metadata": {},
   "source": [
    "### 1.2 Load tokenizer and model, define recognition functions"
   ]
  },
  {
   "cell_type": "code",
   "execution_count": 4,
   "metadata": {},
   "outputs": [],
   "source": [
    "def speech_to_text(audio, beam_size=5, best_of=5, language='en'):\n",
    "    \"\"\"\n",
    "\n",
    "    :param audio:\n",
    "    :param beam_size:\n",
    "    :param best_of:\n",
    "    :param language:\n",
    "    :return:\n",
    "    \"\"\"\n",
    "    \n",
    "    result = asr_model.transcribe(audio, language=language, beam_size=beam_size, best_of=best_of)\n",
    "\n",
    "    return result['text']"
   ]
  },
  {
   "cell_type": "code",
   "execution_count": 5,
   "metadata": {},
   "outputs": [],
   "source": [
    "def text_summarization(text):\n",
    "    return summarizer(text)"
   ]
  },
  {
   "cell_type": "code",
   "execution_count": 6,
   "metadata": {},
   "outputs": [],
   "source": [
    "def wordcloud_func(text: str, out_path='wordcloud_output.png'):\n",
    "    \"\"\" generate wordcloud based on text\n",
    "\n",
    "    :param text:\n",
    "    :param out_path:\n",
    "    :return:\n",
    "    \"\"\"\n",
    "    \n",
    "    if len(text) == 0:\n",
    "        return None\n",
    "    \n",
    "    stopwords = STOPWORDS\n",
    "\n",
    "    wc = WordCloud(\n",
    "        background_color='white',\n",
    "        stopwords=stopwords,\n",
    "        height=600,\n",
    "        width=600\n",
    "    )\n",
    "\n",
    "    wc.generate(text)\n",
    "\n",
    "    wc.to_file(out_path)\n",
    "    return out_path"
   ]
  },
  {
   "cell_type": "markdown",
   "metadata": {},
   "source": [
    "## 2. Launch gradio"
   ]
  },
  {
   "cell_type": "code",
   "execution_count": 7,
   "metadata": {
    "scrolled": false
   },
   "outputs": [
    {
     "name": "stdout",
     "output_type": "stream",
     "text": [
      "Running on local URL:  http://127.0.0.1:7860\n",
      "\n",
      "To create a public link, set `share=True` in `launch()`.\n"
     ]
    },
    {
     "data": {
      "text/html": [
       "<div><iframe src=\"http://127.0.0.1:7860/\" width=\"900\" height=\"500\" allow=\"autoplay; camera; microphone; clipboard-read; clipboard-write;\" frameborder=\"0\" allowfullscreen></iframe></div>"
      ],
      "text/plain": [
       "<IPython.core.display.HTML object>"
      ]
     },
     "metadata": {},
     "output_type": "display_data"
    },
    {
     "data": {
      "text/plain": [
       "(<gradio.routes.App at 0x7f95102f3d90>, 'http://127.0.0.1:7860/', None)"
      ]
     },
     "execution_count": 7,
     "metadata": {},
     "output_type": "execute_result"
    }
   ],
   "source": [
    "demo = gr.Blocks(title=\"Speech Summarization\")\n",
    "\n",
    "with demo:\n",
    "    # data preparation\n",
    "    with gr.Row():\n",
    "        with gr.Column():\n",
    "            url = gr.Textbox(label=\"URL\", placeholder=\"video url\")\n",
    "\n",
    "            b0 = gr.Button(\"clear\")\n",
    "            b0.click(lambda x: '', inputs=url, outputs=url)\n",
    "\n",
    "        speech = gr.Audio(label=\"speech\", type=\"filepath\")\n",
    "\n",
    "        url.change(audio_from_url, inputs=url, outputs=speech)\n",
    "\n",
    "    # ASR\n",
    "    text = gr.Textbox(label=\"Transcription\", placeholder=\"transcription\")\n",
    "\n",
    "    with gr.Row():\n",
    "        beam_size = gr.Slider(1, 10, value=5, step=1, label=\"param: beam_size\")\n",
    "        best_of = gr.Slider(1, 10, value=5, step=1, label=\"param: best_of\")\n",
    "        \n",
    "    with gr.Row():\n",
    "        b1_0 = gr.Button(\"clear\")\n",
    "        b1_0.click(lambda x: '', inputs=text, outputs=text)\n",
    "        b1 = gr.Button(\"Recognize Speech\")\n",
    "        b1.click(speech_to_text, inputs=[speech, beam_size, best_of], outputs=text)\n",
    "\n",
    "    # summary\n",
    "    summary = gr.Textbox(label=\"Summarization\")\n",
    "    \n",
    "    with gr.Row():\n",
    "        b2_0 = gr.Button(\"clear\")\n",
    "        b2_0.click(lambda x: '', inputs=summary, outputs=summary)\n",
    "        b2 = gr.Button(\"Summarize\")\n",
    "        b2.click(text_summarization, inputs=text, outputs=summary)\n",
    "\n",
    "    # wordcloud\n",
    "    image = gr.Image(label=\"wordcloud\", shape=(400,400), show_label=False)\n",
    "\n",
    "    text.change(wordcloud_func, inputs=text, outputs=image)\n",
    "\n",
    "    examples = gr.Examples(examples=[\"https://www.youtube.com/watch?v=DuX4K4eeTz8\",\n",
    "                                     \"https://www.youtube.com/watch?v=nepOSEGHHCQ\"],\n",
    "                           inputs=[url])\n",
    "\n",
    "demo.launch()"
   ]
  }
 ],
 "metadata": {
  "colab": {
   "name": "Video Speech Summarization.ipynb",
   "provenance": []
  },
  "kernelspec": {
   "display_name": "Python [conda env:whisper]",
   "language": "python",
   "name": "conda-env-whisper-py"
  },
  "language_info": {
   "codemirror_mode": {
    "name": "ipython",
    "version": 3
   },
   "file_extension": ".py",
   "mimetype": "text/x-python",
   "name": "python",
   "nbconvert_exporter": "python",
   "pygments_lexer": "ipython3",
   "version": "3.9.13"
  },
  "toc": {
   "base_numbering": 1,
   "nav_menu": {},
   "number_sections": true,
   "sideBar": true,
   "skip_h1_title": false,
   "title_cell": "Table of Contents",
   "title_sidebar": "Contents",
   "toc_cell": false,
   "toc_position": {},
   "toc_section_display": true,
   "toc_window_display": false
  }
 },
 "nbformat": 4,
 "nbformat_minor": 1
}
